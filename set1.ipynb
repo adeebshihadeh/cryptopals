{
 "cells": [
  {
   "cell_type": "code",
   "execution_count": 4,
   "metadata": {},
   "outputs": [
    {
     "name": "stdout",
     "output_type": "stream",
     "text": [
      "b'SSdtIGtpbGxpbmcgeW91ciBicmFpbiBsaWtlIGEgcG9pc29ub3VzIG11c2hyb29t'\n"
     ]
    }
   ],
   "source": [
    "# chall 1\n",
    "\n",
    "from base64 import b64encode \n",
    "\n",
    "dat = bytearray.fromhex(\"49276d206b696c6c696e6720796f757220627261696e206c696b65206120706f69736f6e6f7573206d757368726f6f6d\")\n",
    "print(b64encode(dat))"
   ]
  },
  {
   "cell_type": "code",
   "execution_count": 35,
   "metadata": {},
   "outputs": [
    {
     "name": "stdout",
     "output_type": "stream",
     "text": [
      "746865206b696420646f6e277420706c6179\n"
     ]
    }
   ],
   "source": [
    "# chall 2\n",
    "\n",
    "def xor(a, b):\n",
    "  ret = []\n",
    "  for ab, bb in zip(a, b):\n",
    "    ret.append(ab^bb)\n",
    "  return bytearray(ret) \n",
    "\n",
    "a = bytearray.fromhex(\"1c0111001f010100061a024b53535009181c\")\n",
    "b = bytearray.fromhex(\"686974207468652062756c6c277320657965\")\n",
    "print(xor(a, b).hex())"
   ]
  },
  {
   "cell_type": "code",
   "execution_count": 55,
   "metadata": {},
   "outputs": [
    {
     "name": "stdout",
     "output_type": "stream",
     "text": [
      "Cooking MC's like a pound of bacon\n"
     ]
    }
   ],
   "source": [
    "# chall 3\n",
    "\n",
    "f = {\" \": 15, \"e\": 12.02, \"t\": 9.10, \"a\": 8.12, \"o\": 7.68, \"i\": 7.31, \"n\": 6.95, \"s\": 6.28, \"r\": 6.02, \"h\": 5.92, \"d\": 4.32, \"l\": 3.98, \"u\": 2.88, \"c\": 2.71, \"m\": 2.61, \"f\": 2.30, \"y\": 2.11, \"w\": 2.09, \"g\": 2.03, \"p\": 1.82, \"b\": 1.49, \"v\": 1.11, \"k\": 0.69, \"x\": 0.17, \"q\": 0.11, \"j\": 0.10, \"z\": 0.07}\n",
    "  \n",
    "# how englishy is a string?\n",
    "def score(a):\n",
    "  return sum([f.get(chr(c).lower(), 0) for c in a])\n",
    "\n",
    "def unxor(a):\n",
    "  ret = []\n",
    "  key = \"\"\n",
    "  for k in range(0, 255):\n",
    "    b = [k ^ c for c in a]\n",
    "    if score(b) > score(ret): ret, key = b, k\n",
    "  return bytearray(ret), key\n",
    "\n",
    "a = bytearray.fromhex(\"1b37373331363f78151b7f2b783431333d78397828372d363c78373e783a393b3736\")\n",
    "print(unxor(a)[0].decode())"
   ]
  },
  {
   "cell_type": "code",
   "execution_count": 56,
   "metadata": {},
   "outputs": [
    {
     "name": "stdout",
     "output_type": "stream",
     "text": [
      "Now that the party is jumping\n",
      "\n"
     ]
    }
   ],
   "source": [
    "\n",
    "# chall 4\n",
    "\n",
    "# use score and unxor from solution for #3 \n",
    "\n",
    "# use frequency scoring to find most englishy result\n",
    "def detect_xor(a):\n",
    "  ret, ret_score = \"\", 0\n",
    "  for line in a:\n",
    "    s = score(unxor(line)[0])\n",
    "    if  s > ret_score:\n",
    "      ret = unxor(line)[0]\n",
    "      ret_score = s\n",
    "  return ret\n",
    "\n",
    "dat = [bytearray.fromhex(l.strip()) for l in open(\"4.txt\").readlines()]\n",
    "print(detect_xor(dat).decode())"
   ]
  },
  {
   "cell_type": "code",
   "execution_count": 31,
   "metadata": {},
   "outputs": [
    {
     "name": "stdout",
     "output_type": "stream",
     "text": [
      "b'0b3637272a2b2e63622c2e69692a23693a2a3c6324202d623d63343c2a26226324272765272a282b2f20430a652e2c652a3124333a653e2b2027630c692b20283165286326302e27282f'\n"
     ]
    }
   ],
   "source": [
    "# chall 5\n",
    "\n",
    "from binascii import hexlify\n",
    "\n",
    "def xor(a, key):\n",
    "  ret = list()\n",
    "  for i, c in enumerate(a):\n",
    "    ret.append(c ^ key[i % len(key)])\n",
    "  return bytearray(ret)\n",
    "\n",
    "plain = bytearray([ord(c) for c in open(\"5.txt\").read().strip()])\n",
    "key = bytearray([ord(c) for c in \"ICE\"])\n",
    "print(hexlify(xor(plain, key)))"
   ]
  },
  {
   "cell_type": "code",
   "execution_count": 34,
   "metadata": {},
   "outputs": [
    {
     "name": "stdout",
     "output_type": "stream",
     "text": [
      "I'm back and I'm ringin' the bell \n",
      "A rockin' on the mike while the fly girls yell \n",
      "In ecstasy in the back of me \n",
      "Well that's my DJ Deshay cuttin' all them Z's \n",
      "Hittin' hard and the girlies goin' crazy \n",
      "Vanilla's on the mike, man I'm not lazy. \n",
      "\n",
      "I'm lettin' my drug kick in \n",
      "It controls my mouth and I begin \n",
      "To just let it flow, let my concepts go \n",
      "My posse's to the side yellin', Go Vanilla Go! \n",
      "\n",
      "Smooth 'cause that's the way I will be \n",
      "And if you don't give a damn, then \n",
      "Why you starin' at me \n",
      "So get off 'cause I control the stage \n",
      "There's no dissin' allowed \n",
      "I'm in my own phase \n",
      "The girlies sa y they love me and that is ok \n",
      "And I can dance better than any kid n' play \n",
      "\n",
      "Stage 2 -- Yea the one ya' wanna listen to \n",
      "It's off my head so let the beat play through \n",
      "So I can funk it up and make it sound good \n",
      "1-2-3 Yo -- Knock on some wood \n",
      "For good luck, I like my rhymes atrocious \n",
      "Supercalafragilisticexpialidocious \n",
      "I'm an effect and that you can bet \n",
      "I can take a fly girl and make her wet. \n",
      "\n",
      "I'm like Samson -- Samson to Delilah \n",
      "There's no denyin', You can try to hang \n",
      "But you'll keep tryin' to get my style \n",
      "Over and over, practice makes perfect \n",
      "But not if you're a loafer. \n",
      "\n",
      "You'll get nowhere, no place, no time, no girls \n",
      "Soon -- Oh my God, homebody, you probably eat \n",
      "Spaghetti with a spoon! Come on and say it! \n",
      "\n",
      "VIP. Vanilla Ice yep, yep, I'm comin' hard like a rhino \n",
      "Intoxicating so you stagger like a wino \n",
      "So punks stop trying and girl stop cryin' \n",
      "Vanilla Ice is sellin' and you people are buyin' \n",
      "'Cause why the freaks are jockin' like Crazy Glue \n",
      "Movin' and groovin' trying to sing along \n",
      "All through the ghetto groovin' this here song \n",
      "Now you're amazed by the VIP posse. \n",
      "\n",
      "Steppin' so hard like a German Nazi \n",
      "Startled by the bases hittin' ground \n",
      "There's no trippin' on mine, I'm just gettin' down \n",
      "Sparkamatic, I'm hangin' tight like a fanatic \n",
      "You trapped me once and I thought that \n",
      "You might have it \n",
      "So step down and lend me your ear \n",
      "'89 in my time! You, '90 is my year. \n",
      "\n",
      "You're weakenin' fast, YO! and I can tell it \n",
      "Your body's gettin' hot, so, so I can smell it \n",
      "So don't be mad and don't be sad \n",
      "'Cause the lyrics belong to ICE, You can call me Dad \n",
      "You're pitchin' a fit, so step back and endure \n",
      "Let the witch doctor, Ice, do the dance to cure \n",
      "So come up close and don't be square \n",
      "You wanna battle me -- Anytime, anywhere \n",
      "\n",
      "You thought that I was weak, Boy, you're dead wrong \n",
      "So come on, everybody and sing this song \n",
      "\n",
      "Say -- Play that funky music Say, go white boy, go white boy go \n",
      "play that funky music Go white boy, go white boy, go \n",
      "Lay down and boogie and play that funky music till you die. \n",
      "\n",
      "Play that funky music Come on, Come on, let me hear \n",
      "Play that funky music white boy you say it, say it \n",
      "Play that funky music A little louder now \n",
      "Play that funky music, white boy Come on, Come on, Come on \n",
      "Play that funky music \n",
      "\n"
     ]
    }
   ],
   "source": [
    "# chall 6\n",
    "\n",
    "from base64 import b64decode\n",
    "from itertools import permutations\n",
    "\n",
    "# get hamming distance\n",
    "def hamming(a, b):\n",
    "  ret = 0\n",
    "  for i, j in zip(a, b):\n",
    "    ret += sum(int(n) for n in bin(i^j)[2:])\n",
    "  return ret + abs(len(a)-len(b))\n",
    "\n",
    "# break repeating key xor\n",
    "def xor_smash(a):\n",
    "  ks, dmin =  None, None\n",
    "  for s in range(2, 50):\n",
    "    b = list(permutations([a[n*s:n*s+s] for n in range(4)], 2))\n",
    "    d = sum([hamming(i, j) for i, j in b]) / (len(b)*s)\n",
    "    if ks is None or d < dmin: ks, dmin = s, d\n",
    "\n",
    "  blocks = [list() for _ in range(ks)]\n",
    "  for b in [a[i:i+ks] for i in range(0, len(a), ks)]:\n",
    "    for j, bb in enumerate(b):\n",
    "      blocks[j].append(bb)\n",
    "\n",
    "  key = [unxor(c)[1] for c in blocks]\n",
    "  return xor(a, key), key\n",
    "\n",
    "enc = b64decode(open(\"6.txt\").read())\n",
    "print(xor_smash(enc)[0].decode())"
   ]
  },
  {
   "cell_type": "code",
   "execution_count": 38,
   "metadata": {},
   "outputs": [
    {
     "name": "stdout",
     "output_type": "stream",
     "text": [
      "b\"I'm back and I'm ringin' the bell \\nA rockin' on the mike while the fly girls yell \\nIn ecstasy in the back of me \\nWell that's my DJ Deshay cuttin' all them Z's \\nHittin' hard and the girlies goin' crazy \\nVanilla's on the mike, man I'm not lazy. \\n\\nI'm lettin' my drug kick in \\nIt controls my mouth and I begin \\nTo just let it flow, let my concepts go \\nMy posse's to the side yellin', Go Vanilla Go! \\n\\nSmooth 'cause that's the way I will be \\nAnd if you don't give a damn, then \\nWhy you starin' at me \\nSo get off 'cause I control the stage \\nThere's no dissin' allowed \\nI'm in my own phase \\nThe girlies sa y they love me and that is ok \\nAnd I can dance better than any kid n' play \\n\\nStage 2 -- Yea the one ya' wanna listen to \\nIt's off my head so let the beat play through \\nSo I can funk it up and make it sound good \\n1-2-3 Yo -- Knock on some wood \\nFor good luck, I like my rhymes atrocious \\nSupercalafragilisticexpialidocious \\nI'm an effect and that you can bet \\nI can take a fly girl and make her wet. \\n\\nI'm like Samson -- Samson to Delilah \\nThere's no denyin', You can try to hang \\nBut you'll keep tryin' to get my style \\nOver and over, practice makes perfect \\nBut not if you're a loafer. \\n\\nYou'll get nowhere, no place, no time, no girls \\nSoon -- Oh my God, homebody, you probably eat \\nSpaghetti with a spoon! Come on and say it! \\n\\nVIP. Vanilla Ice yep, yep, I'm comin' hard like a rhino \\nIntoxicating so you stagger like a wino \\nSo punks stop trying and girl stop cryin' \\nVanilla Ice is sellin' and you people are buyin' \\n'Cause why the freaks are jockin' like Crazy Glue \\nMovin' and groovin' trying to sing along \\nAll through the ghetto groovin' this here song \\nNow you're amazed by the VIP posse. \\n\\nSteppin' so hard like a German Nazi \\nStartled by the bases hittin' ground \\nThere's no trippin' on mine, I'm just gettin' down \\nSparkamatic, I'm hangin' tight like a fanatic \\nYou trapped me once and I thought that \\nYou might have it \\nSo step down and lend me your ear \\n'89 in my time! You, '90 is my year. \\n\\nYou're weakenin' fast, YO! and I can tell it \\nYour body's gettin' hot, so, so I can smell it \\nSo don't be mad and don't be sad \\n'Cause the lyrics belong to ICE, You can call me Dad \\nYou're pitchin' a fit, so step back and endure \\nLet the witch doctor, Ice, do the dance to cure \\nSo come up close and don't be square \\nYou wanna battle me -- Anytime, anywhere \\n\\nYou thought that I was weak, Boy, you're dead wrong \\nSo come on, everybody and sing this song \\n\\nSay -- Play that funky music Say, go white boy, go white boy go \\nplay that funky music Go white boy, go white boy, go \\nLay down and boogie and play that funky music till you die. \\n\\nPlay that funky music Come on, Come on, let me hear \\nPlay that funky music white boy you say it, say it \\nPlay that funky music A little louder now \\nPlay that funky music, white boy Come on, Come on, Come on \\nPlay that funky music \\n\\x04\\x04\\x04\\x04\"\n"
     ]
    }
   ],
   "source": [
    "# chall 7\n",
    "\n",
    "from base64 import b64decode\n",
    "from Crypto.Cipher import AES\n",
    "\n",
    "def aes128_decrypt(cipher, key):\n",
    "  c = AES.new(key, AES.MODE_ECB)\n",
    "  return c.decrypt(cipher)\n",
    "\n",
    "cipher = b64decode(open(\"7.txt\").read())\n",
    "key = \"YELLOW SUBMARINE\"\n",
    "print(aes128_decrypt(cipher, key))"
   ]
  },
  {
   "cell_type": "code",
   "execution_count": 41,
   "metadata": {},
   "outputs": [
    {
     "name": "stdout",
     "output_type": "stream",
     "text": [
      "bytearray(b\"\\x06\\xdf\\x04\\x18\\x882\\xb1\\n\\xff\\xf9B\\t\\xd2\\xaa\\x1c\\x8a\\x127\\x02\\xde(#M\\xcd>\\n}6\\xc1\\xaa\\x84I\\xe6\\xfaU\\xe3\\xe1\\xe3\\xd7}\\x84$\\xe8zE\\xe3\\x86\\x97u_\\x84\\xc4\\x9a\\x99G7\\x97&\\x81\\x13\\xebi\\t\\x88\\x88\\x94u&\\x03[$m\\x00\\xa60\\xf6 \\x1e\\xcc@u\\xd8\\xaaf\\x04\\xdes\\xe2\\x11\\x9e&NL\\x96u\\x1f*g\\xa2\\xe4l\\xf4g\\xa0\\xdf\\x8f\\x05 \\xbc\\xf4v+\\'\\x15\\xab\\xa2f\\xd9\\xb3\\xf5\\xe8\\xfag\\xd1/\\x9c\\xaa\\xc9(\\xb0z\\xc3\\xbe\\x99\\xf4\\x11 eZ\\xa7\\x7fd3\\xfc&Fs\\xa9))\\xe7\\x92\\x18\\x7f\\x87\\xb5\\xfd\\xa5\\x0c\\xf2\")\n"
     ]
    }
   ],
   "source": [
    "# chall 8\n",
    "\n",
    "# how ECB-y are a set of bytes?\n",
    "# higher is better\n",
    "def ecb_score(a):\n",
    "  # break into 16 byte chunks\n",
    "  a = bytes(a)\n",
    "  c = dict()\n",
    "  for b in range(0, len(a), 16):\n",
    "    c[a[b:b+16]] = c.get(a[b:b+16], 0) + 1\n",
    "\n",
    "  #if max(c.values()) > 2: print(c.items())\n",
    "  return max(c.values())\n",
    "\n",
    "def detect_ecb(a):\n",
    "  xx = list()\n",
    "  ret, vmax = None, 0\n",
    "  for l in a:\n",
    "    xx.append(ecb_score(l))\n",
    "    if ret is None or ecb_score(l) > vmax: ret = l, ecb_score(l)\n",
    "  return l\n",
    "\n",
    "cipher = [bytearray.fromhex(l.strip()) for l in open(\"8.txt\").readlines()]\n",
    "print(detect_ecb(cipher))"
   ]
  },
  {
   "cell_type": "code",
   "execution_count": null,
   "metadata": {},
   "outputs": [],
   "source": []
  }
 ],
 "metadata": {
  "kernelspec": {
   "display_name": "Python 3",
   "language": "python",
   "name": "python3"
  },
  "language_info": {
   "codemirror_mode": {
    "name": "ipython",
    "version": 3
   },
   "file_extension": ".py",
   "mimetype": "text/x-python",
   "name": "python",
   "nbconvert_exporter": "python",
   "pygments_lexer": "ipython3",
   "version": "3.7.4"
  }
 },
 "nbformat": 4,
 "nbformat_minor": 2
}
