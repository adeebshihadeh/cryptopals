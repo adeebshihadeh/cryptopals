{
 "cells": [
  {
   "cell_type": "code",
   "execution_count": 5,
   "metadata": {},
   "outputs": [
    {
     "name": "stdout",
     "output_type": "stream",
     "text": [
      "'YELLOW SUBMARINE\\x04\\x04\\x04\\x04'\n"
     ]
    }
   ],
   "source": [
    "# chall 9\n",
    "\n",
    "def pad_pkcs7(block, pad_length):\n",
    "  return block.ljust(pad_length, '\\x04')\n",
    "  \n",
    "print repr(pad_pkcs7(\"YELLOW SUBMARINE\", 20))"
   ]
  },
  {
   "cell_type": "code",
   "execution_count": null,
   "metadata": {},
   "outputs": [],
   "source": []
  },
  {
   "cell_type": "code",
   "execution_count": null,
   "metadata": {},
   "outputs": [],
   "source": []
  },
  {
   "cell_type": "code",
   "execution_count": null,
   "metadata": {},
   "outputs": [],
   "source": []
  },
  {
   "cell_type": "code",
   "execution_count": null,
   "metadata": {},
   "outputs": [],
   "source": []
  },
  {
   "cell_type": "code",
   "execution_count": null,
   "metadata": {},
   "outputs": [],
   "source": []
  },
  {
   "cell_type": "code",
   "execution_count": 36,
   "metadata": {},
   "outputs": [],
   "source": [
    "# chall 15\n",
    "\n",
    "import string\n",
    "\n",
    "def padding_valid(a):\n",
    "  idx = [i for i, c in enumerate(a[::-1]) if c in string.printable]\n",
    "  padding = a[::-1][:idx[0]]\n",
    "  if any(len(padding) != ord(c) for c in padding):\n",
    "    raise Exception(\"Invalid PKCS#7 Padding\")\n",
    "\n",
    "# test cases\n",
    "\n",
    "padding_valid(\"ICE ICE BABY\\x04\\x04\\x04\\x04\")\n",
    "\n",
    "try:\n",
    "  padding_valid(\"ICE ICE BABY\\x05\\x05\\x05\\x05\")\n",
    "except:\n",
    "  pass\n",
    "\n",
    "try:\n",
    "  padding_valid(\"ICE ICE BABY\\x05\\x05\\x05\\x05\")\n",
    "except:\n",
    "  pass"
   ]
  },
  {
   "cell_type": "code",
   "execution_count": null,
   "metadata": {},
   "outputs": [],
   "source": []
  }
 ],
 "metadata": {
  "kernelspec": {
   "display_name": "Python 3",
   "language": "python",
   "name": "python3"
  },
  "language_info": {
   "codemirror_mode": {
    "name": "ipython",
    "version": 3
   },
   "file_extension": ".py",
   "mimetype": "text/x-python",
   "name": "python",
   "nbconvert_exporter": "python",
   "pygments_lexer": "ipython3",
   "version": "3.7.4"
  }
 },
 "nbformat": 4,
 "nbformat_minor": 2
}
