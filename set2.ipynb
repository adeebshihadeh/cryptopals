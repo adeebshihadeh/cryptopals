{
 "cells": [
  {
   "cell_type": "code",
   "execution_count": 80,
   "metadata": {},
   "outputs": [
    {
     "name": "stdout",
     "output_type": "stream",
     "text": [
      "b'YELLOW SUBMARINE\\x04\\x04\\x04\\x04'\n"
     ]
    }
   ],
   "source": [
    "# chall 9\n",
    "\n",
    "def pad_pkcs7(block, pad_length):\n",
    "  return block.ljust(pad_length, b\"\\x04\")\n",
    "  \n",
    "print(repr(pad_pkcs7(b\"YELLOW SUBMARINE\", 20)))"
   ]
  },
  {
   "cell_type": "code",
   "execution_count": 116,
   "metadata": {
    "scrolled": true
   },
   "outputs": [
    {
     "name": "stdout",
     "output_type": "stream",
     "text": [
      "b\"\\xda\\x03\\x0c\\x17\\xf2\\x99\\xc0\\x8f_cR{)\\xedR\\x0f\\xff[\\xfe\\xebb\\xbaC\\xd9\\xdei\\xf6\\xf6mx%C\\xfc\\xbc5'[\\x81()9C\\xa6R\\xb7\\xdd\\xa5>\"\n"
     ]
    }
   ],
   "source": [
    "# chall 10\n",
    "\n",
    "import math\n",
    "from Crypto.Cipher import AES\n",
    "\n",
    "# TODO: figure out how to import from other notebook\n",
    "def xor(a, b):\n",
    "  ret = []\n",
    "  for ab, bb in zip(a, b):\n",
    "    ret.append(ab^bb)\n",
    "  return bytes(ret) \n",
    "\n",
    "def encrypt_cbc(plaintext, key, iv):\n",
    "  plaintext = pad_pkcs7(plaintext, math.ceil(len(plaintext)/16.)*16)\n",
    "\n",
    "  ecb = AES.new(key, AES.MODE_ECB)\n",
    "  ret = []\n",
    "  cipher_prev = iv\n",
    "  for i in range(math.ceil(len(plaintext)/16.)):\n",
    "    block = plaintext[i*16:(i+1)*16]\n",
    "    cipher_prev = ecb.encrypt(xor(block, cipher_prev))\n",
    "    ret.append(cipher_prev)\n",
    "  return b''.join(ret)\n",
    "\n",
    "iv = b\"\\x00\"*16\n",
    "key = b\"YELLOW SUBMARINE\"\n",
    "print(encrypt_cbc(b\"aaaaaaaaaaaaaaaaaaaaaaaaaaaaaaaaaaaa\", key, iv))"
   ]
  },
  {
   "cell_type": "code",
   "execution_count": 2,
   "metadata": {},
   "outputs": [],
   "source": [
    "# chall 11, not finished\n",
    "\n",
    "from random import randint\n",
    "\n",
    "def randkey():\n",
    "  return \"\".join(chr(randint(0, 0xFF)) for _ in range(16))\n",
    "\n",
    "def encrypt_rand(dat):\n",
    "  k = randkey()\n",
    "  dat = randkey()[:randint(5, 10)] + dat\n",
    "  dat = dat + randkey()[:randint(5, 10)]\n",
    "  uj\n",
    "  # randomly choose ecb or cbc\n",
    "  if randint(0, 1) == 0:\n",
    "    pass\n",
    "  else:\n",
    "    # ecb\n",
    "    pass\n",
    "  \n",
    "  # detect which one\n",
    "\n",
    "  "
   ]
  },
  {
   "cell_type": "code",
   "execution_count": 8,
   "metadata": {},
   "outputs": [
    {
     "data": {
      "text/plain": [
       "0"
      ]
     },
     "execution_count": 8,
     "metadata": {},
     "output_type": "execute_result"
    }
   ],
   "source": []
  },
  {
   "cell_type": "code",
   "execution_count": 61,
   "metadata": {},
   "outputs": [
    {
     "name": "stdout",
     "output_type": "stream",
     "text": [
      "{'foo': 'bar', 'baz': 'qux', 'zap': 'zazzle'}\n",
      "email=foo@bar.com&uid=10&role=user\n"
     ]
    }
   ],
   "source": [
    "# challenge 13, not finished\n",
    "\n",
    "def parse_kv(a):\n",
    "  return {i.split(\"=\")[0]: i.split(\"=\")[1] for i in a.split(\"&\")}\n",
    "  \n",
    "print(parse_kv(\"foo=bar&baz=qux&zap=zazzle\"))\n",
    "\n",
    "def profile_for(email):\n",
    "  p = {\n",
    "    \"email\": email.replace(\"&\", \"\").replace(\"=\", \"\"),\n",
    "    \"uid\": 10,\n",
    "    \"role\": \"user\"\n",
    "  }\n",
    "  return \"&\".join(\"%s=%s\" % (k, v) for k, v in p.items())\n",
    "\n",
    "print(profile_for(\"foo@bar.com\"))\n",
    "\n"
   ]
  },
  {
   "cell_type": "code",
   "execution_count": null,
   "metadata": {},
   "outputs": [],
   "source": []
  },
  {
   "cell_type": "code",
   "execution_count": 39,
   "metadata": {},
   "outputs": [],
   "source": [
    "# chall 15\n",
    "\n",
    "import string\n",
    "\n",
    "def padding_valid(a):\n",
    "  idx = [i for i, c in enumerate(a[::-1]) if c in string.printable]\n",
    "  padding = a[::-1][:idx[0]]\n",
    "  if any(len(padding) != ord(c) for c in padding):\n",
    "    raise Exception(\"Invalid PKCS#7 Padding\")\n",
    "\n",
    "# test cases\n",
    "\n",
    "padding_valid(\"ICE ICE BABY\\x04\\x04\\x04\\x04\")\n",
    "\n",
    "try:\n",
    "  padding_valid(\"ICE ICE BABY\\x05\\x05\\x05\\x05\")\n",
    "except:\n",
    "  pass\n",
    "\n",
    "try:\n",
    "  padding_valid(\"ICE ICE BABY\\x05\\x05\\x05\\x05\")\n",
    "except:\n",
    "  pass"
   ]
  },
  {
   "cell_type": "code",
   "execution_count": null,
   "metadata": {},
   "outputs": [],
   "source": []
  }
 ],
 "metadata": {
  "kernelspec": {
   "display_name": "Python 3",
   "language": "python",
   "name": "python3"
  },
  "language_info": {
   "codemirror_mode": {
    "name": "ipython",
    "version": 3
   },
   "file_extension": ".py",
   "mimetype": "text/x-python",
   "name": "python",
   "nbconvert_exporter": "python",
   "pygments_lexer": "ipython3",
   "version": "3.7.4"
  }
 },
 "nbformat": 4,
 "nbformat_minor": 2
}
