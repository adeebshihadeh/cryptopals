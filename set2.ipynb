{
 "cells": [
  {
   "cell_type": "code",
   "execution_count": 5,
   "metadata": {},
   "outputs": [
    {
     "name": "stdout",
     "output_type": "stream",
     "text": [
      "'YELLOW SUBMARINE\\x04\\x04\\x04\\x04'\n"
     ]
    }
   ],
   "source": [
    "# chall 9\n",
    "\n",
    "def pad_pkcs7(block, pad_length):\n",
    "  return block.ljust(pad_length, '\\x04')\n",
    "  \n",
    "print repr(pad_pkcs7(\"YELLOW SUBMARINE\", 20))"
   ]
  },
  {
   "cell_type": "code",
   "execution_count": 4,
   "metadata": {},
   "outputs": [
    {
     "name": "stdout",
     "output_type": "stream",
     "text": [
      "'\\x00\\x00\\x00 &c'\n",
      "'\\x00'\n"
     ]
    }
   ],
   "source": [
    "# chall 10\n",
    "\n",
    "iv = \"\\x00\\x00\\x00 &c\"\n",
    "print(repr(iv))\n",
    "print(repr(iv[1\n",
    "             ]))"
   ]
  },
  {
   "cell_type": "code",
   "execution_count": null,
   "metadata": {},
   "outputs": [],
   "source": []
  }
 ],
 "metadata": {
  "kernelspec": {
   "display_name": "Python 3",
   "language": "python",
   "name": "python3"
  },
  "language_info": {
   "codemirror_mode": {
    "name": "ipython",
    "version": 3
   },
   "file_extension": ".py",
   "mimetype": "text/x-python",
   "name": "python",
   "nbconvert_exporter": "python",
   "pygments_lexer": "ipython3",
   "version": "3.7.4"
  }
 },
 "nbformat": 4,
 "nbformat_minor": 2
}
